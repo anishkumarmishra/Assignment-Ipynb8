{
  "nbformat": 4,
  "nbformat_minor": 0,
  "metadata": {
    "colab": {
      "provenance": []
    },
    "kernelspec": {
      "name": "python3",
      "display_name": "Python 3"
    },
    "language_info": {
      "name": "python"
    }
  },
  "cells": [
    {
      "cell_type": "markdown",
      "source": [
        "###1. Is the Python Standard Library included with PyInputPlus?\n",
        "###**Answer** :- PyInputPlus is not a part of the Python Standard Library, we must install it separately using Pip."
      ],
      "metadata": {
        "id": "BHBLyrbIwvNX"
      }
    },
    {
      "cell_type": "markdown",
      "source": [
        "###2. Why is PyInputPlus commonly imported with import pyinputplus as pypi?\n",
        "####**Answer** :- You can import the module with import pyinputplus as pyip so that you can enter a shorter name when calling the module's functions. PyInputPlus has functions for entering a variety of input, including strings, numbers, dates, yes/no, True/False, emails, and files."
      ],
      "metadata": {
        "id": "iUOYUlIVyNxI"
      }
    },
    {
      "cell_type": "markdown",
      "source": [
        "###3. How do you distinguish between inputInt() and inputFloat()?\n",
        "####**Answer** :- inputInt() : Accepts an integer value. This also takes additional parameters 'min', 'max', 'greaterThan' and 'lessThan' for bounds. Returns an int. inputFloat() : Accepts a floating-point numeric value"
      ],
      "metadata": {
        "id": "mO40DjzR9N7j"
      }
    },
    {
      "cell_type": "markdown",
      "source": [
        "###4. Using PyInputPlus, how do you ensure that the user enters a whole number between 0 and 99?\n",
        "####**Answer** :- A By using pyip. inputint(min=1, max=100) B."
      ],
      "metadata": {
        "id": "OPfJABo1906-"
      }
    },
    {
      "cell_type": "markdown",
      "source": [
        "###5. What is transferred to the keyword arguments allowRegexes and blockRegexes?\n",
        "####**Answer** :- keyword arguments take a list of regular expression strings to determine what the PyInputPlus function will accept or reject as valid input."
      ],
      "metadata": {
        "id": "6xhgh7OxBKMj"
      }
    },
    {
      "cell_type": "markdown",
      "source": [
        "###6. If a blank input is entered three times, what does inputStr(limit=3) do?\n",
        "####**Answer** :- It will throw RetryLimitException exception."
      ],
      "metadata": {
        "id": "16dGCgLsCAMj"
      }
    },
    {
      "cell_type": "markdown",
      "source": [
        "###7. If blank input is entered three times, what does inputStr(limit=3, default=&#39;hello&#39;) do?\n",
        "####**Answer** :- When you use limit keyword arguments and also pass a default keyword argument, the function returns the default value instead of raising an exception"
      ],
      "metadata": {
        "id": "QENRv55JC4H-"
      }
    }
  ]
}